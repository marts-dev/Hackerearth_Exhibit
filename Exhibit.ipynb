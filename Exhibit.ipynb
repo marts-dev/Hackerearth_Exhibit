{
 "cells": [
  {
   "cell_type": "markdown",
   "id": "nominated-affiliation",
   "metadata": {},
   "source": [
    "# Hackerearth Exhibit A(rt)"
   ]
  },
  {
   "cell_type": "markdown",
   "id": "turkish-costume",
   "metadata": {},
   "source": [
    "Hackathon for predicting the cost of shipping an art piece."
   ]
  },
  {
   "cell_type": "code",
   "execution_count": 1,
   "id": "twenty-remark",
   "metadata": {},
   "outputs": [],
   "source": [
    "import numpy as np\n",
    "import pandas as pd\n",
    "import pandas_profiling\n",
    "\n",
    "#Training data file\n",
    "train_file = \"./dataset/train.csv\"\n",
    "test_file = \"./dataset/test.csv\""
   ]
  },
  {
   "cell_type": "markdown",
   "id": "mighty-laptop",
   "metadata": {},
   "source": [
    "## Data Specification\n",
    "\n",
    "| Column name | Description |\n",
    "| --- | --- |\n",
    "| Customer Id | Represents the unique identification number of the customers |\n",
    "| Artist Name |Represents the name of the artist |\n",
    "| Artist Reputation\t| Represents the reputation of an artist in the market (the greater the reputation value, the higher the reputation of the artist in the market)\n",
    "| Height | Represents the height of the sculpture |\n",
    "| Width\t| Represents the width of the sculpture |\n",
    "| Weight | Represents the weight of the sculpture |\n",
    "| Material | Represents the material that the sculpture is made of |\n",
    "| Price Of Sculpture | Represents the price of the sculpture |\n",
    "| Base Shipping Price | Represents the base price for shipping a sculpture |\n",
    "| International | Represents whether the shipping is international |\n",
    "| Express Shipment | Represents whether the shipping was in the express (fast) mode |\n",
    "| Installation Included | Represents whether the order had installation included in the purchase of the sculpture |\n",
    "| Transport | Represents the mode of transport of the order |\n",
    "| Fragile | Represents whether the order is fragile |\n",
    "| Customer Information | Represents details about a customer |\n",
    "| Remote Location | Represents whether the customer resides in a remote location |\n",
    "| Scheduled Date | Represents the date when the order was placed |\n",
    "| Delivery Date | Represents the date of delivery of the order |\n",
    "| Customer Location | Represents the location of the customer |\n",
    "| Cost | Represents the cost of the order |"
   ]
  },
  {
   "cell_type": "markdown",
   "id": "constant-melbourne",
   "metadata": {},
   "source": [
    "## Load the data in a pandas.Dataframe"
   ]
  },
  {
   "cell_type": "code",
   "execution_count": 2,
   "id": "conceptual-bottom",
   "metadata": {},
   "outputs": [],
   "source": [
    "train_df = pd.read_csv(train_file)\n",
    "test_df = pd.read_csv(test_file)\n",
    "#train_df.profile_report()"
   ]
  },
  {
   "cell_type": "code",
   "execution_count": 3,
   "id": "automatic-enemy",
   "metadata": {},
   "outputs": [
    {
     "data": {
      "text/html": [
       "<div>\n",
       "<style scoped>\n",
       "    .dataframe tbody tr th:only-of-type {\n",
       "        vertical-align: middle;\n",
       "    }\n",
       "\n",
       "    .dataframe tbody tr th {\n",
       "        vertical-align: top;\n",
       "    }\n",
       "\n",
       "    .dataframe thead th {\n",
       "        text-align: right;\n",
       "    }\n",
       "</style>\n",
       "<table border=\"1\" class=\"dataframe\">\n",
       "  <thead>\n",
       "    <tr style=\"text-align: right;\">\n",
       "      <th></th>\n",
       "      <th>Customer Id</th>\n",
       "      <th>Artist Name</th>\n",
       "      <th>Artist Reputation</th>\n",
       "      <th>Height</th>\n",
       "      <th>Width</th>\n",
       "      <th>Weight</th>\n",
       "      <th>Material</th>\n",
       "      <th>Price Of Sculpture</th>\n",
       "      <th>Base Shipping Price</th>\n",
       "      <th>International</th>\n",
       "      <th>Express Shipment</th>\n",
       "      <th>Installation Included</th>\n",
       "      <th>Transport</th>\n",
       "      <th>Fragile</th>\n",
       "      <th>Customer Information</th>\n",
       "      <th>Remote Location</th>\n",
       "      <th>Scheduled Date</th>\n",
       "      <th>Delivery Date</th>\n",
       "      <th>Customer Location</th>\n",
       "      <th>Cost</th>\n",
       "    </tr>\n",
       "  </thead>\n",
       "  <tbody>\n",
       "    <tr>\n",
       "      <th>0</th>\n",
       "      <td>fffe3900350033003300</td>\n",
       "      <td>Billy Jenkins</td>\n",
       "      <td>0.26</td>\n",
       "      <td>17.0</td>\n",
       "      <td>6.0</td>\n",
       "      <td>4128.0</td>\n",
       "      <td>Brass</td>\n",
       "      <td>13.91</td>\n",
       "      <td>16.27</td>\n",
       "      <td>Yes</td>\n",
       "      <td>Yes</td>\n",
       "      <td>No</td>\n",
       "      <td>Airways</td>\n",
       "      <td>No</td>\n",
       "      <td>Working Class</td>\n",
       "      <td>No</td>\n",
       "      <td>06/07/15</td>\n",
       "      <td>06/03/15</td>\n",
       "      <td>New Michelle, OH 50777</td>\n",
       "      <td>-283.29</td>\n",
       "    </tr>\n",
       "    <tr>\n",
       "      <th>1</th>\n",
       "      <td>fffe3800330031003900</td>\n",
       "      <td>Jean Bryant</td>\n",
       "      <td>0.28</td>\n",
       "      <td>3.0</td>\n",
       "      <td>3.0</td>\n",
       "      <td>61.0</td>\n",
       "      <td>Brass</td>\n",
       "      <td>6.83</td>\n",
       "      <td>15.00</td>\n",
       "      <td>No</td>\n",
       "      <td>No</td>\n",
       "      <td>No</td>\n",
       "      <td>Roadways</td>\n",
       "      <td>No</td>\n",
       "      <td>Working Class</td>\n",
       "      <td>No</td>\n",
       "      <td>03/06/17</td>\n",
       "      <td>03/05/17</td>\n",
       "      <td>New Michaelport, WY 12072</td>\n",
       "      <td>-159.96</td>\n",
       "    </tr>\n",
       "    <tr>\n",
       "      <th>2</th>\n",
       "      <td>fffe3600370035003100</td>\n",
       "      <td>Laura Miller</td>\n",
       "      <td>0.07</td>\n",
       "      <td>8.0</td>\n",
       "      <td>5.0</td>\n",
       "      <td>237.0</td>\n",
       "      <td>Clay</td>\n",
       "      <td>4.96</td>\n",
       "      <td>21.18</td>\n",
       "      <td>No</td>\n",
       "      <td>No</td>\n",
       "      <td>No</td>\n",
       "      <td>Roadways</td>\n",
       "      <td>Yes</td>\n",
       "      <td>Working Class</td>\n",
       "      <td>Yes</td>\n",
       "      <td>03/09/15</td>\n",
       "      <td>03/08/15</td>\n",
       "      <td>Bowmanshire, WA 19241</td>\n",
       "      <td>-154.29</td>\n",
       "    </tr>\n",
       "    <tr>\n",
       "      <th>3</th>\n",
       "      <td>fffe350031003300</td>\n",
       "      <td>Robert Chaires</td>\n",
       "      <td>0.12</td>\n",
       "      <td>9.0</td>\n",
       "      <td>NaN</td>\n",
       "      <td>NaN</td>\n",
       "      <td>Aluminium</td>\n",
       "      <td>5.81</td>\n",
       "      <td>16.31</td>\n",
       "      <td>No</td>\n",
       "      <td>No</td>\n",
       "      <td>No</td>\n",
       "      <td>NaN</td>\n",
       "      <td>No</td>\n",
       "      <td>Wealthy</td>\n",
       "      <td>Yes</td>\n",
       "      <td>05/24/15</td>\n",
       "      <td>05/20/15</td>\n",
       "      <td>East Robyn, KY 86375</td>\n",
       "      <td>-161.16</td>\n",
       "    </tr>\n",
       "    <tr>\n",
       "      <th>4</th>\n",
       "      <td>fffe3900320038003400</td>\n",
       "      <td>Rosalyn Krol</td>\n",
       "      <td>0.15</td>\n",
       "      <td>17.0</td>\n",
       "      <td>6.0</td>\n",
       "      <td>324.0</td>\n",
       "      <td>Aluminium</td>\n",
       "      <td>3.18</td>\n",
       "      <td>11.94</td>\n",
       "      <td>Yes</td>\n",
       "      <td>Yes</td>\n",
       "      <td>Yes</td>\n",
       "      <td>Airways</td>\n",
       "      <td>No</td>\n",
       "      <td>Working Class</td>\n",
       "      <td>No</td>\n",
       "      <td>12/18/16</td>\n",
       "      <td>12/14/16</td>\n",
       "      <td>Aprilside, PA 52793</td>\n",
       "      <td>-159.23</td>\n",
       "    </tr>\n",
       "  </tbody>\n",
       "</table>\n",
       "</div>"
      ],
      "text/plain": [
       "            Customer Id     Artist Name  Artist Reputation  Height  Width  \\\n",
       "0  fffe3900350033003300   Billy Jenkins               0.26    17.0    6.0   \n",
       "1  fffe3800330031003900     Jean Bryant               0.28     3.0    3.0   \n",
       "2  fffe3600370035003100    Laura Miller               0.07     8.0    5.0   \n",
       "3      fffe350031003300  Robert Chaires               0.12     9.0    NaN   \n",
       "4  fffe3900320038003400    Rosalyn Krol               0.15    17.0    6.0   \n",
       "\n",
       "   Weight   Material  Price Of Sculpture  Base Shipping Price International  \\\n",
       "0  4128.0      Brass               13.91                16.27           Yes   \n",
       "1    61.0      Brass                6.83                15.00            No   \n",
       "2   237.0       Clay                4.96                21.18            No   \n",
       "3     NaN  Aluminium                5.81                16.31            No   \n",
       "4   324.0  Aluminium                3.18                11.94           Yes   \n",
       "\n",
       "  Express Shipment Installation Included Transport Fragile  \\\n",
       "0              Yes                    No   Airways      No   \n",
       "1               No                    No  Roadways      No   \n",
       "2               No                    No  Roadways     Yes   \n",
       "3               No                    No       NaN      No   \n",
       "4              Yes                   Yes   Airways      No   \n",
       "\n",
       "  Customer Information Remote Location Scheduled Date Delivery Date  \\\n",
       "0        Working Class              No       06/07/15      06/03/15   \n",
       "1        Working Class              No       03/06/17      03/05/17   \n",
       "2        Working Class             Yes       03/09/15      03/08/15   \n",
       "3              Wealthy             Yes       05/24/15      05/20/15   \n",
       "4        Working Class              No       12/18/16      12/14/16   \n",
       "\n",
       "           Customer Location    Cost  \n",
       "0     New Michelle, OH 50777 -283.29  \n",
       "1  New Michaelport, WY 12072 -159.96  \n",
       "2      Bowmanshire, WA 19241 -154.29  \n",
       "3       East Robyn, KY 86375 -161.16  \n",
       "4        Aprilside, PA 52793 -159.23  "
      ]
     },
     "execution_count": 3,
     "metadata": {},
     "output_type": "execute_result"
    }
   ],
   "source": [
    "train_df.head()"
   ]
  },
  {
   "cell_type": "code",
   "execution_count": 4,
   "id": "subsequent-strategy",
   "metadata": {},
   "outputs": [
    {
     "data": {
      "text/plain": [
       "Customer Id                 0\n",
       "Artist Name                 0\n",
       "Artist Reputation         750\n",
       "Height                    375\n",
       "Width                     584\n",
       "Weight                    587\n",
       "Material                  764\n",
       "Price Of Sculpture          0\n",
       "Base Shipping Price         0\n",
       "International               0\n",
       "Express Shipment            0\n",
       "Installation Included       0\n",
       "Transport                1392\n",
       "Fragile                     0\n",
       "Customer Information        0\n",
       "Remote Location           771\n",
       "Scheduled Date              0\n",
       "Delivery Date               0\n",
       "Customer Location           0\n",
       "dtype: int64"
      ]
     },
     "execution_count": 4,
     "metadata": {},
     "output_type": "execute_result"
    }
   ],
   "source": [
    "#Separate the target in dataframe\n",
    "y_train = train_df[\"Cost\"].abs()\n",
    "x_train = train_df.drop([\"Cost\"], axis=1)\n",
    "x_test = test_df\n",
    "missing_values_count = x_train.isnull().sum()\n",
    "missing_values_count"
   ]
  },
  {
   "cell_type": "markdown",
   "id": "beautiful-endorsement",
   "metadata": {},
   "source": [
    "## Inspect the data\n",
    "### Observations:\n",
    "- CustomerIds are 100% unique, might be representing transaction ID(candidate for removal)\n",
    "- Customer Locations are 100% unique(candidate for removal since distance cannot be dervided from currently provided data)\n",
    "- Cost is highly skewed(Target to be predicted)\n",
    "- Price of sculpture is highly skewed\n",
    "- Height, Width, Weight and Material might have correlation(Try to use PCA and another regressor to impute missing values)\n",
    "- Transportation has a lot of missing information\n",
    "### Columns with missing data\n",
    "- Artist Reputation\n",
    "- Height\n",
    "- Width\n",
    "- Weight\n",
    "- Material\n",
    "- Transport\n",
    "- Remote Location"
   ]
  },
  {
   "cell_type": "markdown",
   "id": "organic-thread",
   "metadata": {},
   "source": [
    "## Approach 1: Straight forward, just use features that affected shipping cost based on experience\n",
    "Remove probably not useful columns\n",
    "CustomerIds, Customer Location, Material, Artist Name, Artist Reputation, Scheduled Date, Delivery Date\n",
    "### Note\n",
    "Consider adding again, Artist reputation in later attempt"
   ]
  },
  {
   "cell_type": "code",
   "execution_count": 5,
   "id": "sitting-textbook",
   "metadata": {},
   "outputs": [],
   "source": [
    "drop_columns = [\"Customer Id\", \"Customer Location\", \"Material\", \"Artist Name\", \"Artist Reputation\", \"Scheduled Date\", \"Delivery Date\"]\n",
    "X_train_dropped = x_train.drop(drop_columns, axis=1)\n",
    "X_test_dropped = x_test.drop(drop_columns, axis=1)\n",
    "label = X_train_dropped.dtypes == \"object\"\n",
    "label_enc_cols = list(label[label].index)"
   ]
  },
  {
   "cell_type": "markdown",
   "id": "little-dressing",
   "metadata": {},
   "source": [
    "### Fill missing values of Transport"
   ]
  },
  {
   "cell_type": "code",
   "execution_count": 6,
   "id": "verified-metro",
   "metadata": {},
   "outputs": [],
   "source": [
    "replacement = X_train_dropped[\"Transport\"].mode()[0]\n",
    "X_train_dropped[\"Transport\"] = X_train_dropped[\"Transport\"].fillna(replacement)\n",
    "replacement = X_train_dropped[\"Remote Location\"].mode()[0]\n",
    "X_train_dropped[\"Remote Location\"] = X_train_dropped[\"Remote Location\"].fillna(replacement)\n",
    "replacement = X_test_dropped[\"Transport\"].mode()[0]\n",
    "X_test_dropped[\"Transport\"] = X_test_dropped[\"Transport\"].fillna(replacement)\n",
    "replacement = X_test_dropped[\"Remote Location\"].mode()[0]\n",
    "X_test_dropped[\"Remote Location\"] = X_test_dropped[\"Remote Location\"].fillna(replacement)"
   ]
  },
  {
   "cell_type": "markdown",
   "id": "challenging-things",
   "metadata": {},
   "source": [
    "### Label Encode"
   ]
  },
  {
   "cell_type": "code",
   "execution_count": 7,
   "id": "tribal-alert",
   "metadata": {},
   "outputs": [],
   "source": [
    "from sklearn.preprocessing import LabelEncoder\n",
    "label_encoder = LabelEncoder()\n",
    "for col in label_enc_cols:\n",
    "    X_train_dropped[col] = label_encoder.fit_transform(X_train_dropped[col])\n",
    "    X_test_dropped[col] = label_encoder.fit_transform(X_test_dropped[col])"
   ]
  },
  {
   "cell_type": "code",
   "execution_count": 8,
   "id": "undefined-lotus",
   "metadata": {},
   "outputs": [
    {
     "data": {
      "text/html": [
       "<div>\n",
       "<style scoped>\n",
       "    .dataframe tbody tr th:only-of-type {\n",
       "        vertical-align: middle;\n",
       "    }\n",
       "\n",
       "    .dataframe tbody tr th {\n",
       "        vertical-align: top;\n",
       "    }\n",
       "\n",
       "    .dataframe thead th {\n",
       "        text-align: right;\n",
       "    }\n",
       "</style>\n",
       "<table border=\"1\" class=\"dataframe\">\n",
       "  <thead>\n",
       "    <tr style=\"text-align: right;\">\n",
       "      <th></th>\n",
       "      <th>Height</th>\n",
       "      <th>Width</th>\n",
       "      <th>Weight</th>\n",
       "      <th>Price Of Sculpture</th>\n",
       "      <th>Base Shipping Price</th>\n",
       "      <th>International</th>\n",
       "      <th>Express Shipment</th>\n",
       "      <th>Installation Included</th>\n",
       "      <th>Transport</th>\n",
       "      <th>Fragile</th>\n",
       "      <th>Customer Information</th>\n",
       "      <th>Remote Location</th>\n",
       "    </tr>\n",
       "  </thead>\n",
       "  <tbody>\n",
       "    <tr>\n",
       "      <th>0</th>\n",
       "      <td>17.0</td>\n",
       "      <td>6.0</td>\n",
       "      <td>4128.0</td>\n",
       "      <td>13.91</td>\n",
       "      <td>16.27</td>\n",
       "      <td>1</td>\n",
       "      <td>1</td>\n",
       "      <td>0</td>\n",
       "      <td>0</td>\n",
       "      <td>0</td>\n",
       "      <td>1</td>\n",
       "      <td>0</td>\n",
       "    </tr>\n",
       "    <tr>\n",
       "      <th>1</th>\n",
       "      <td>3.0</td>\n",
       "      <td>3.0</td>\n",
       "      <td>61.0</td>\n",
       "      <td>6.83</td>\n",
       "      <td>15.00</td>\n",
       "      <td>0</td>\n",
       "      <td>0</td>\n",
       "      <td>0</td>\n",
       "      <td>1</td>\n",
       "      <td>0</td>\n",
       "      <td>1</td>\n",
       "      <td>0</td>\n",
       "    </tr>\n",
       "    <tr>\n",
       "      <th>2</th>\n",
       "      <td>8.0</td>\n",
       "      <td>5.0</td>\n",
       "      <td>237.0</td>\n",
       "      <td>4.96</td>\n",
       "      <td>21.18</td>\n",
       "      <td>0</td>\n",
       "      <td>0</td>\n",
       "      <td>0</td>\n",
       "      <td>1</td>\n",
       "      <td>1</td>\n",
       "      <td>1</td>\n",
       "      <td>1</td>\n",
       "    </tr>\n",
       "    <tr>\n",
       "      <th>3</th>\n",
       "      <td>9.0</td>\n",
       "      <td>NaN</td>\n",
       "      <td>NaN</td>\n",
       "      <td>5.81</td>\n",
       "      <td>16.31</td>\n",
       "      <td>0</td>\n",
       "      <td>0</td>\n",
       "      <td>0</td>\n",
       "      <td>1</td>\n",
       "      <td>0</td>\n",
       "      <td>0</td>\n",
       "      <td>1</td>\n",
       "    </tr>\n",
       "    <tr>\n",
       "      <th>4</th>\n",
       "      <td>17.0</td>\n",
       "      <td>6.0</td>\n",
       "      <td>324.0</td>\n",
       "      <td>3.18</td>\n",
       "      <td>11.94</td>\n",
       "      <td>1</td>\n",
       "      <td>1</td>\n",
       "      <td>1</td>\n",
       "      <td>0</td>\n",
       "      <td>0</td>\n",
       "      <td>1</td>\n",
       "      <td>0</td>\n",
       "    </tr>\n",
       "  </tbody>\n",
       "</table>\n",
       "</div>"
      ],
      "text/plain": [
       "   Height  Width  Weight  Price Of Sculpture  Base Shipping Price  \\\n",
       "0    17.0    6.0  4128.0               13.91                16.27   \n",
       "1     3.0    3.0    61.0                6.83                15.00   \n",
       "2     8.0    5.0   237.0                4.96                21.18   \n",
       "3     9.0    NaN     NaN                5.81                16.31   \n",
       "4    17.0    6.0   324.0                3.18                11.94   \n",
       "\n",
       "   International  Express Shipment  Installation Included  Transport  Fragile  \\\n",
       "0              1                 1                      0          0        0   \n",
       "1              0                 0                      0          1        0   \n",
       "2              0                 0                      0          1        1   \n",
       "3              0                 0                      0          1        0   \n",
       "4              1                 1                      1          0        0   \n",
       "\n",
       "   Customer Information  Remote Location  \n",
       "0                     1                0  \n",
       "1                     1                0  \n",
       "2                     1                1  \n",
       "3                     0                1  \n",
       "4                     1                0  "
      ]
     },
     "execution_count": 8,
     "metadata": {},
     "output_type": "execute_result"
    }
   ],
   "source": [
    "X_train_dropped.head()"
   ]
  },
  {
   "cell_type": "markdown",
   "id": "fuzzy-florence",
   "metadata": {},
   "source": [
    "## Impute missing values"
   ]
  },
  {
   "cell_type": "code",
   "execution_count": 9,
   "id": "listed-veteran",
   "metadata": {},
   "outputs": [],
   "source": [
    "from sklearn.impute import SimpleImputer\n",
    "imputer = SimpleImputer(strategy=\"most_frequent\")\n",
    "X_imputed = pd.DataFrame(imputer.fit_transform(X_train_dropped), columns=X_train_dropped.columns)"
   ]
  },
  {
   "cell_type": "markdown",
   "id": "assigned-drawing",
   "metadata": {},
   "source": [
    "## Scale the data"
   ]
  },
  {
   "cell_type": "code",
   "execution_count": 10,
   "id": "distributed-testing",
   "metadata": {},
   "outputs": [],
   "source": [
    "from sklearn.preprocessing import MinMaxScaler\n",
    "feat_to_scale = [\"Height\", \"Width\", \"Weight\",\"Price Of Sculpture\", \"Base Shipping Price\"]\n",
    "X_scaled = X_imputed\n",
    "scaled_features = MinMaxScaler().fit_transform(X_scaled[feat_to_scale])\n",
    "#Remove unscaled columns from original DF\n",
    "scaled_feature_df = pd.DataFrame(scaled_features, columns=feat_to_scale)\n",
    "scaled_feature_df.head()\n",
    "for col in feat_to_scale:\n",
    "    X_scaled[col] = scaled_feature_df[col]\n",
    "    \n",
    "X_scaled.head()\n",
    "# Scaled output, reverse, remeber to reverse the operation on the result\n",
    "y_train = np.log1p(y_train)"
   ]
  },
  {
   "cell_type": "code",
   "execution_count": 11,
   "id": "quality-memory",
   "metadata": {},
   "outputs": [],
   "source": [
    "from sklearn.model_selection import train_test_split\n",
    "# Split the currently available training set for evaluation\n",
    "train_feat, test_feat, cost_train, cost_test = train_test_split(\n",
    "    X_scaled.to_numpy(),\n",
    "    y_train.to_numpy(),\n",
    "    train_size=0.8,\n",
    "    random_state=0\n",
    "    )\n"
   ]
  },
  {
   "cell_type": "markdown",
   "id": "hourly-report",
   "metadata": {},
   "source": [
    "## Try AdaBoost Regressor"
   ]
  },
  {
   "cell_type": "code",
   "execution_count": 12,
   "id": "funny-thesis",
   "metadata": {},
   "outputs": [],
   "source": [
    "from sklearn.ensemble import AdaBoostRegressor\n",
    "ada = AdaBoostRegressor(random_state=0, n_estimators=150, learning_rate=0.0001, loss=\"exponential\")"
   ]
  },
  {
   "cell_type": "code",
   "execution_count": 13,
   "id": "adaptive-bible",
   "metadata": {},
   "outputs": [
    {
     "name": "stdout",
     "output_type": "stream",
     "text": [
      "0.8606118766716299\n"
     ]
    }
   ],
   "source": [
    "ada.fit(train_feat, cost_train)\n",
    "print(ada.score(test_feat, cost_test))"
   ]
  },
  {
   "cell_type": "markdown",
   "id": "selected-advice",
   "metadata": {},
   "source": [
    "## RandomForest Regressor"
   ]
  },
  {
   "cell_type": "code",
   "execution_count": 14,
   "id": "interesting-damages",
   "metadata": {},
   "outputs": [],
   "source": [
    "from sklearn.ensemble import RandomForestRegressor\n",
    "rfr = RandomForestRegressor(n_estimators=150,random_state=42)"
   ]
  },
  {
   "cell_type": "code",
   "execution_count": 15,
   "id": "reserved-underground",
   "metadata": {},
   "outputs": [
    {
     "name": "stdout",
     "output_type": "stream",
     "text": [
      "0.8892530789905283\n"
     ]
    }
   ],
   "source": [
    "rfr.fit(train_feat, cost_train)\n",
    "print(rfr.score(test_feat, cost_test))"
   ]
  },
  {
   "cell_type": "markdown",
   "id": "discrete-crazy",
   "metadata": {},
   "source": [
    "## Linear Regressor"
   ]
  },
  {
   "cell_type": "code",
   "execution_count": 16,
   "id": "recorded-selection",
   "metadata": {},
   "outputs": [],
   "source": [
    "from sklearn.linear_model import LinearRegression\n",
    "lnr = LinearRegression(normalize=True)"
   ]
  },
  {
   "cell_type": "code",
   "execution_count": 17,
   "id": "metropolitan-basement",
   "metadata": {},
   "outputs": [
    {
     "name": "stdout",
     "output_type": "stream",
     "text": [
      "0.5699499216959859\n"
     ]
    }
   ],
   "source": [
    "lnr.fit(train_feat, cost_train)\n",
    "print(lnr.score(test_feat, cost_test))"
   ]
  },
  {
   "cell_type": "markdown",
   "id": "suspended-elevation",
   "metadata": {},
   "source": [
    "## Ridge Regression"
   ]
  },
  {
   "cell_type": "code",
   "execution_count": 18,
   "id": "sharing-abraham",
   "metadata": {},
   "outputs": [
    {
     "name": "stdout",
     "output_type": "stream",
     "text": [
      "0.5665261893013835\n"
     ]
    }
   ],
   "source": [
    "from sklearn.linear_model import Ridge\n",
    "rdg = Ridge(alpha=0.1, normalize=True)\n",
    "rdg.fit(train_feat, cost_train)\n",
    "print(rdg.score(test_feat, cost_test))"
   ]
  },
  {
   "cell_type": "markdown",
   "id": "atmospheric-orange",
   "metadata": {},
   "source": [
    "## Kernel Ridge"
   ]
  },
  {
   "cell_type": "code",
   "execution_count": 19,
   "id": "basic-buying",
   "metadata": {},
   "outputs": [
    {
     "name": "stdout",
     "output_type": "stream",
     "text": [
      "-0.037706487114584464\n"
     ]
    }
   ],
   "source": [
    "from sklearn.kernel_ridge import KernelRidge\n",
    "krn = KernelRidge(alpha=0.1, degree=12)\n",
    "krn.fit(train_feat, cost_train)\n",
    "print(krn.score(test_feat, cost_test))"
   ]
  },
  {
   "cell_type": "markdown",
   "id": "metric-jacob",
   "metadata": {},
   "source": [
    "## GradientBoosting"
   ]
  },
  {
   "cell_type": "code",
   "execution_count": 20,
   "id": "authorized-medicine",
   "metadata": {},
   "outputs": [
    {
     "name": "stdout",
     "output_type": "stream",
     "text": [
      "0.8896623379793243\n"
     ]
    }
   ],
   "source": [
    "from sklearn.ensemble import GradientBoostingRegressor\n",
    "grd = GradientBoostingRegressor(random_state=0)\n",
    "grd.fit(train_feat, cost_train)\n",
    "print(grd.score(test_feat, cost_test))"
   ]
  },
  {
   "cell_type": "markdown",
   "id": "pending-mechanism",
   "metadata": {},
   "source": [
    "## Approach 1 result\n",
    "- Gradient Boosting performed better than other models using the present data"
   ]
  },
  {
   "cell_type": "markdown",
   "id": "dressed-bride",
   "metadata": {},
   "source": [
    "## Approach 2: Generate additional features from present data"
   ]
  },
  {
   "cell_type": "code",
   "execution_count": 21,
   "id": "referenced-emphasis",
   "metadata": {},
   "outputs": [
    {
     "data": {
      "text/html": [
       "<div>\n",
       "<style scoped>\n",
       "    .dataframe tbody tr th:only-of-type {\n",
       "        vertical-align: middle;\n",
       "    }\n",
       "\n",
       "    .dataframe tbody tr th {\n",
       "        vertical-align: top;\n",
       "    }\n",
       "\n",
       "    .dataframe thead th {\n",
       "        text-align: right;\n",
       "    }\n",
       "</style>\n",
       "<table border=\"1\" class=\"dataframe\">\n",
       "  <thead>\n",
       "    <tr style=\"text-align: right;\">\n",
       "      <th></th>\n",
       "      <th>Artist Reputation</th>\n",
       "      <th>Height</th>\n",
       "      <th>Width</th>\n",
       "      <th>Weight</th>\n",
       "      <th>Material</th>\n",
       "      <th>Price Of Sculpture</th>\n",
       "      <th>Base Shipping Price</th>\n",
       "      <th>International</th>\n",
       "      <th>Express Shipment</th>\n",
       "      <th>Installation Included</th>\n",
       "      <th>Transport</th>\n",
       "      <th>Fragile</th>\n",
       "      <th>Customer Information</th>\n",
       "      <th>Remote Location</th>\n",
       "      <th>Scheduled Date</th>\n",
       "      <th>Delivery Date</th>\n",
       "      <th>Customer Location</th>\n",
       "      <th>Cost</th>\n",
       "    </tr>\n",
       "  </thead>\n",
       "  <tbody>\n",
       "    <tr>\n",
       "      <th>0</th>\n",
       "      <td>0.26</td>\n",
       "      <td>17.0</td>\n",
       "      <td>6.0</td>\n",
       "      <td>4128.0</td>\n",
       "      <td>Brass</td>\n",
       "      <td>13.91</td>\n",
       "      <td>16.27</td>\n",
       "      <td>Yes</td>\n",
       "      <td>Yes</td>\n",
       "      <td>No</td>\n",
       "      <td>Airways</td>\n",
       "      <td>No</td>\n",
       "      <td>Working Class</td>\n",
       "      <td>No</td>\n",
       "      <td>2015-06-07</td>\n",
       "      <td>2015-06-03</td>\n",
       "      <td>New Michelle, OH 50777</td>\n",
       "      <td>-283.29</td>\n",
       "    </tr>\n",
       "    <tr>\n",
       "      <th>1</th>\n",
       "      <td>0.28</td>\n",
       "      <td>3.0</td>\n",
       "      <td>3.0</td>\n",
       "      <td>61.0</td>\n",
       "      <td>Brass</td>\n",
       "      <td>6.83</td>\n",
       "      <td>15.00</td>\n",
       "      <td>No</td>\n",
       "      <td>No</td>\n",
       "      <td>No</td>\n",
       "      <td>Roadways</td>\n",
       "      <td>No</td>\n",
       "      <td>Working Class</td>\n",
       "      <td>No</td>\n",
       "      <td>2017-03-06</td>\n",
       "      <td>2017-03-05</td>\n",
       "      <td>New Michaelport, WY 12072</td>\n",
       "      <td>-159.96</td>\n",
       "    </tr>\n",
       "    <tr>\n",
       "      <th>2</th>\n",
       "      <td>0.07</td>\n",
       "      <td>8.0</td>\n",
       "      <td>5.0</td>\n",
       "      <td>237.0</td>\n",
       "      <td>Clay</td>\n",
       "      <td>4.96</td>\n",
       "      <td>21.18</td>\n",
       "      <td>No</td>\n",
       "      <td>No</td>\n",
       "      <td>No</td>\n",
       "      <td>Roadways</td>\n",
       "      <td>Yes</td>\n",
       "      <td>Working Class</td>\n",
       "      <td>Yes</td>\n",
       "      <td>2015-03-09</td>\n",
       "      <td>2015-03-08</td>\n",
       "      <td>Bowmanshire, WA 19241</td>\n",
       "      <td>-154.29</td>\n",
       "    </tr>\n",
       "    <tr>\n",
       "      <th>3</th>\n",
       "      <td>0.12</td>\n",
       "      <td>9.0</td>\n",
       "      <td>NaN</td>\n",
       "      <td>NaN</td>\n",
       "      <td>Aluminium</td>\n",
       "      <td>5.81</td>\n",
       "      <td>16.31</td>\n",
       "      <td>No</td>\n",
       "      <td>No</td>\n",
       "      <td>No</td>\n",
       "      <td>NaN</td>\n",
       "      <td>No</td>\n",
       "      <td>Wealthy</td>\n",
       "      <td>Yes</td>\n",
       "      <td>2015-05-24</td>\n",
       "      <td>2015-05-20</td>\n",
       "      <td>East Robyn, KY 86375</td>\n",
       "      <td>-161.16</td>\n",
       "    </tr>\n",
       "    <tr>\n",
       "      <th>4</th>\n",
       "      <td>0.15</td>\n",
       "      <td>17.0</td>\n",
       "      <td>6.0</td>\n",
       "      <td>324.0</td>\n",
       "      <td>Aluminium</td>\n",
       "      <td>3.18</td>\n",
       "      <td>11.94</td>\n",
       "      <td>Yes</td>\n",
       "      <td>Yes</td>\n",
       "      <td>Yes</td>\n",
       "      <td>Airways</td>\n",
       "      <td>No</td>\n",
       "      <td>Working Class</td>\n",
       "      <td>No</td>\n",
       "      <td>2016-12-18</td>\n",
       "      <td>2016-12-14</td>\n",
       "      <td>Aprilside, PA 52793</td>\n",
       "      <td>-159.23</td>\n",
       "    </tr>\n",
       "  </tbody>\n",
       "</table>\n",
       "</div>"
      ],
      "text/plain": [
       "   Artist Reputation  Height  Width  Weight   Material  Price Of Sculpture  \\\n",
       "0               0.26    17.0    6.0  4128.0      Brass               13.91   \n",
       "1               0.28     3.0    3.0    61.0      Brass                6.83   \n",
       "2               0.07     8.0    5.0   237.0       Clay                4.96   \n",
       "3               0.12     9.0    NaN     NaN  Aluminium                5.81   \n",
       "4               0.15    17.0    6.0   324.0  Aluminium                3.18   \n",
       "\n",
       "   Base Shipping Price International Express Shipment Installation Included  \\\n",
       "0                16.27           Yes              Yes                    No   \n",
       "1                15.00            No               No                    No   \n",
       "2                21.18            No               No                    No   \n",
       "3                16.31            No               No                    No   \n",
       "4                11.94           Yes              Yes                   Yes   \n",
       "\n",
       "  Transport Fragile Customer Information Remote Location Scheduled Date  \\\n",
       "0   Airways      No        Working Class              No     2015-06-07   \n",
       "1  Roadways      No        Working Class              No     2017-03-06   \n",
       "2  Roadways     Yes        Working Class             Yes     2015-03-09   \n",
       "3       NaN      No              Wealthy             Yes     2015-05-24   \n",
       "4   Airways      No        Working Class              No     2016-12-18   \n",
       "\n",
       "  Delivery Date          Customer Location    Cost  \n",
       "0    2015-06-03     New Michelle, OH 50777 -283.29  \n",
       "1    2017-03-05  New Michaelport, WY 12072 -159.96  \n",
       "2    2015-03-08      Bowmanshire, WA 19241 -154.29  \n",
       "3    2015-05-20       East Robyn, KY 86375 -161.16  \n",
       "4    2016-12-14        Aprilside, PA 52793 -159.23  "
      ]
     },
     "execution_count": 21,
     "metadata": {},
     "output_type": "execute_result"
    }
   ],
   "source": [
    "# Original Data\n",
    "x_modified = train_df\n",
    "final_test = test_df\n",
    "y_target = x_modified[\"Cost\"]\n",
    "customer_id = final_test[\"Customer Id\"]\n",
    "# Drop features we will not use\n",
    "drop_columns = [\"Customer Id\", \"Artist Name\"]\n",
    "x_modified.drop(drop_columns, axis=1, inplace=True)\n",
    "final_features = final_test.drop(drop_columns, axis=1)\n",
    "\n",
    "x_modified[\"Scheduled Date\"] = pd.to_datetime(x_modified[\"Scheduled Date\"], format=\"%m/%d/%y\")\n",
    "x_modified[\"Delivery Date\"] = pd.to_datetime(x_modified[\"Delivery Date\"], format=\"%m/%d/%y\")\n",
    "final_features[\"Scheduled Date\"] = pd.to_datetime(final_features[\"Scheduled Date\"], format=\"%m/%d/%y\")\n",
    "final_features[\"Delivery Date\"] = pd.to_datetime(final_features[\"Delivery Date\"], format=\"%m/%d/%y\")\n",
    "x_modified.head()"
   ]
  },
  {
   "cell_type": "markdown",
   "id": "exposed-bleeding",
   "metadata": {},
   "source": [
    "### Create new feature from difference of scheduled date and delivery date"
   ]
  },
  {
   "cell_type": "code",
   "execution_count": 22,
   "id": "ranging-awareness",
   "metadata": {},
   "outputs": [],
   "source": [
    "x_modified[\"ScheduleDiff\"] = (x_modified[\"Delivery Date\"]-x_modified[\"Scheduled Date\"]).map(lambda x: str(x).split()[0])\n",
    "x_modified[\"ScheduleDiff\"] = pd.to_numeric(x_modified[\"ScheduleDiff\"])\n",
    "x_modified.drop([\"Delivery Date\", \"Scheduled Date\"], axis=1, inplace=True)\n",
    "\n",
    "final_features[\"ScheduleDiff\"] = (final_features[\"Delivery Date\"]-final_features[\"Scheduled Date\"]).map(lambda x: str(x).split()[0])\n",
    "final_features[\"ScheduleDiff\"] = pd.to_numeric(final_features[\"ScheduleDiff\"])\n",
    "final_features.drop([\"Delivery Date\", \"Scheduled Date\"], axis=1, inplace=True)"
   ]
  },
  {
   "cell_type": "markdown",
   "id": "forty-magazine",
   "metadata": {},
   "source": [
    "### Extract state from customer location"
   ]
  },
  {
   "cell_type": "code",
   "execution_count": 23,
   "id": "unsigned-appliance",
   "metadata": {},
   "outputs": [],
   "source": [
    "x_modified[\"State\"] = x_modified[\"Customer Location\"].map(lambda x:str(x).split()[-2])\n",
    "x_modified.drop([\"Customer Location\"], axis=1, inplace=True)\n",
    "\n",
    "final_features[\"State\"] = final_features[\"Customer Location\"].map(lambda x:str(x).split()[-2])\n",
    "final_features.drop([\"Customer Location\"], axis=1, inplace=True)"
   ]
  },
  {
   "cell_type": "code",
   "execution_count": 24,
   "id": "limited-savannah",
   "metadata": {},
   "outputs": [],
   "source": [
    "#x_modified.profile_report()"
   ]
  },
  {
   "cell_type": "markdown",
   "id": "secondary-democrat",
   "metadata": {},
   "source": [
    "### One Hot Encode Transport"
   ]
  },
  {
   "cell_type": "code",
   "execution_count": 25,
   "id": "accurate-suite",
   "metadata": {},
   "outputs": [],
   "source": [
    "from sklearn.preprocessing import OneHotEncoder\n",
    "ohe = OneHotEncoder(sparse=False)\n",
    "#Fill NaN transport\n",
    "replacement = x_modified[\"Transport\"].mode()[0]\n",
    "x_modified[\"Transport\"] = x_modified[\"Transport\"].fillna(replacement)\n",
    "x_transport = pd.DataFrame(ohe.fit_transform(x_modified[[\"Transport\"]]), columns=ohe.get_feature_names([\"Transport\"]))\n",
    "x_modified.drop([\"Transport\"], axis=1, inplace=True)\n",
    "x_modified = pd.concat([x_modified, x_transport], axis=1)\n",
    "\n",
    "final_features[\"Transport\"] = final_features[\"Transport\"].fillna(final_features[\"Transport\"].mode()[0])\n",
    "x_transport = pd.DataFrame(ohe.fit_transform(final_features[[\"Transport\"]]), columns=ohe.get_feature_names([\"Transport\"]))\n",
    "final_features.drop([\"Transport\"], axis=1, inplace=True)\n",
    "final_features = pd.concat([final_features, x_transport], axis=1)"
   ]
  },
  {
   "cell_type": "code",
   "execution_count": 26,
   "id": "dynamic-vanilla",
   "metadata": {},
   "outputs": [],
   "source": [
    "#x_modified.profile_report()"
   ]
  },
  {
   "cell_type": "markdown",
   "id": "through-dimension",
   "metadata": {},
   "source": [
    "### Impute missing values"
   ]
  },
  {
   "cell_type": "code",
   "execution_count": 27,
   "id": "ruled-slovenia",
   "metadata": {},
   "outputs": [
    {
     "data": {
      "text/plain": [
       "Artist Reputation        750\n",
       "Height                   375\n",
       "Width                    584\n",
       "Weight                   587\n",
       "Material                 764\n",
       "Price Of Sculpture         0\n",
       "Base Shipping Price        0\n",
       "International              0\n",
       "Express Shipment           0\n",
       "Installation Included      0\n",
       "Fragile                    0\n",
       "Customer Information       0\n",
       "Remote Location          771\n",
       "Cost                       0\n",
       "ScheduleDiff               0\n",
       "State                      0\n",
       "Transport_Airways          0\n",
       "Transport_Roadways         0\n",
       "Transport_Waterways        0\n",
       "dtype: int64"
      ]
     },
     "execution_count": 27,
     "metadata": {},
     "output_type": "execute_result"
    }
   ],
   "source": [
    "x_modified.isnull().sum()"
   ]
  },
  {
   "cell_type": "code",
   "execution_count": 28,
   "id": "dimensional-prague",
   "metadata": {},
   "outputs": [],
   "source": [
    "def fillNan(df, column, value):\n",
    "    df[column].fillna(value, inplace=True)"
   ]
  },
  {
   "cell_type": "markdown",
   "id": "national-south",
   "metadata": {},
   "source": [
    "### Impute Artist reputaion"
   ]
  },
  {
   "cell_type": "code",
   "execution_count": 29,
   "id": "several-powell",
   "metadata": {},
   "outputs": [
    {
     "data": {
      "text/plain": [
       "False"
      ]
     },
     "execution_count": 29,
     "metadata": {},
     "output_type": "execute_result"
    }
   ],
   "source": [
    "fillNan(x_modified, \"Artist Reputation\", x_modified[\"Artist Reputation\"].mean())\n",
    "x_modified[\"Artist Reputation\"].isna().any()\n",
    "\n",
    "fillNan(final_features, \"Artist Reputation\", final_features[\"Artist Reputation\"].mean())\n",
    "final_features[\"Artist Reputation\"].isna().any()"
   ]
  },
  {
   "cell_type": "markdown",
   "id": "apart-abuse",
   "metadata": {},
   "source": [
    "### Impute Height, Width, and Weight"
   ]
  },
  {
   "cell_type": "code",
   "execution_count": 30,
   "id": "municipal-analyst",
   "metadata": {},
   "outputs": [
    {
     "data": {
      "text/plain": [
       "False"
      ]
     },
     "execution_count": 30,
     "metadata": {},
     "output_type": "execute_result"
    }
   ],
   "source": [
    "fillNan(x_modified, \"Height\", x_modified[\"Height\"].mean())\n",
    "x_modified[\"Height\"].isna().any()\n",
    "fillNan(x_modified, \"Width\", x_modified[\"Width\"].mean())\n",
    "x_modified[\"Width\"].isna().any()\n",
    "fillNan(x_modified, \"Weight\", x_modified[\"Weight\"].mean())\n",
    "x_modified[\"Weight\"].isna().any()\n",
    "\n",
    "fillNan(final_features, \"Height\", final_features[\"Height\"].mean())\n",
    "final_features[\"Height\"].isna().any()\n",
    "fillNan(final_features, \"Width\", final_features[\"Width\"].mean())\n",
    "final_features[\"Width\"].isna().any()\n",
    "fillNan(final_features, \"Weight\", final_features[\"Weight\"].mean())\n",
    "final_features[\"Weight\"].isna().any()"
   ]
  },
  {
   "cell_type": "markdown",
   "id": "handy-bryan",
   "metadata": {},
   "source": [
    "### Impute Material"
   ]
  },
  {
   "cell_type": "code",
   "execution_count": 31,
   "id": "hourly-minutes",
   "metadata": {},
   "outputs": [
    {
     "data": {
      "text/plain": [
       "False"
      ]
     },
     "execution_count": 31,
     "metadata": {},
     "output_type": "execute_result"
    }
   ],
   "source": [
    "fillNan(x_modified, \"Material\", x_modified[\"Material\"].mode()[0])\n",
    "x_modified[\"Material\"].isna().any()\n",
    "\n",
    "fillNan(final_features, \"Material\", final_features[\"Material\"].mode()[0])\n",
    "final_features[\"Material\"].isna().any()"
   ]
  },
  {
   "cell_type": "markdown",
   "id": "israeli-romania",
   "metadata": {},
   "source": [
    "### Impute Remote Location"
   ]
  },
  {
   "cell_type": "code",
   "execution_count": 32,
   "id": "scenic-youth",
   "metadata": {},
   "outputs": [
    {
     "data": {
      "text/plain": [
       "False"
      ]
     },
     "execution_count": 32,
     "metadata": {},
     "output_type": "execute_result"
    }
   ],
   "source": [
    "fillNan(x_modified, \"Remote Location\", x_modified[\"Remote Location\"].mode()[0])\n",
    "x_modified[\"Remote Location\"].isna().any()\n",
    "\n",
    "fillNan(final_features, \"Remote Location\", final_features[\"Remote Location\"].mode()[0])\n",
    "final_features[\"Remote Location\"].isna().any()"
   ]
  },
  {
   "cell_type": "markdown",
   "id": "biological-sleeping",
   "metadata": {},
   "source": [
    "### Label Encode non-numerical columns"
   ]
  },
  {
   "cell_type": "code",
   "execution_count": 33,
   "id": "gorgeous-harvest",
   "metadata": {},
   "outputs": [],
   "source": [
    "label = x_modified.dtypes == \"object\"\n",
    "label_enc_cols = list(label[label].index)\n",
    "label_encoder = LabelEncoder()\n",
    "for col in label_enc_cols:\n",
    "    x_modified[col] = label_encoder.fit_transform(x_modified[col])\n",
    "    \n",
    "label = final_features.dtypes == \"object\"\n",
    "label_enc_cols = list(label[label].index)\n",
    "label_encoder = LabelEncoder()\n",
    "for col in label_enc_cols:\n",
    "    final_features[col] = label_encoder.fit_transform(final_features[col])"
   ]
  },
  {
   "cell_type": "code",
   "execution_count": 34,
   "id": "inclusive-universal",
   "metadata": {},
   "outputs": [],
   "source": [
    "#x_modified.profile_report()"
   ]
  },
  {
   "cell_type": "code",
   "execution_count": 35,
   "id": "olympic-lingerie",
   "metadata": {},
   "outputs": [],
   "source": [
    "#from sklearn.preprocessing import StandardScaler\n",
    "X_normalized = x_modified\n",
    "from sklearn.preprocessing import MinMaxScaler\n",
    "feat_to_scale = [\"Height\", \"Width\", \"Weight\",\"Price Of Sculpture\", \"Base Shipping Price\", \"State\"]\n",
    "scaled_features = MinMaxScaler().fit_transform(X_normalized[feat_to_scale])\n",
    "#Remove unscaled columns from original DF\n",
    "scaled_feature_df = pd.DataFrame(scaled_features, columns=feat_to_scale)\n",
    "for col in feat_to_scale:\n",
    "    X_normalized[col] = scaled_feature_df[col]\n",
    "X_normalized[\"Cost\"] = np.log1p(abs(X_normalized[\"Cost\"]))\n",
    "#X_normalized.profile_report()\n",
    "\n",
    "final_features_norm = final_features\n",
    "from sklearn.preprocessing import MinMaxScaler\n",
    "feat_to_scale = [\"Height\", \"Width\", \"Weight\",\"Price Of Sculpture\", \"Base Shipping Price\", \"State\"]\n",
    "scaled_features = MinMaxScaler().fit_transform(final_features_norm[feat_to_scale])\n",
    "#Remove unscaled columns from original DF\n",
    "scaled_feature_df = pd.DataFrame(scaled_features, columns=feat_to_scale)\n",
    "for col in feat_to_scale:\n",
    "    final_features_norm[col] = scaled_feature_df[col]"
   ]
  },
  {
   "cell_type": "markdown",
   "id": "favorite-jerusalem",
   "metadata": {},
   "source": [
    "### Separate target from features"
   ]
  },
  {
   "cell_type": "code",
   "execution_count": 36,
   "id": "lightweight-mentor",
   "metadata": {},
   "outputs": [],
   "source": [
    "y_cost = X_normalized[\"Cost\"]\n",
    "X_normalized.drop([\"Cost\"], axis=1, inplace=True)"
   ]
  },
  {
   "cell_type": "markdown",
   "id": "banner-craft",
   "metadata": {},
   "source": [
    "### Split training and testing data"
   ]
  },
  {
   "cell_type": "code",
   "execution_count": 37,
   "id": "fewer-decline",
   "metadata": {},
   "outputs": [],
   "source": [
    "from sklearn.model_selection import train_test_split\n",
    "# Split the currently available training set for evaluation\n",
    "train_feat, test_feat, cost_train, cost_test = train_test_split(\n",
    "    X_normalized.to_numpy(),\n",
    "    y_cost.to_numpy(),\n",
    "    train_size=0.8,\n",
    "    random_state=0\n",
    "    )"
   ]
  },
  {
   "cell_type": "markdown",
   "id": "musical-track",
   "metadata": {},
   "source": [
    "## Try out models"
   ]
  },
  {
   "cell_type": "markdown",
   "id": "collect-variance",
   "metadata": {},
   "source": [
    "### Gradient boosting"
   ]
  },
  {
   "cell_type": "code",
   "execution_count": 38,
   "id": "turned-copyright",
   "metadata": {},
   "outputs": [
    {
     "name": "stdout",
     "output_type": "stream",
     "text": [
      "0.9702842163830093\n"
     ]
    }
   ],
   "source": [
    "from sklearn.ensemble import GradientBoostingRegressor\n",
    "grd = GradientBoostingRegressor(random_state=42, learning_rate=0.2, subsample=0.8)\n",
    "grd.fit(train_feat, cost_train)\n",
    "print(grd.score(test_feat, cost_test))"
   ]
  },
  {
   "cell_type": "markdown",
   "id": "backed-credits",
   "metadata": {},
   "source": [
    "### AdaBoost"
   ]
  },
  {
   "cell_type": "code",
   "execution_count": 39,
   "id": "dress-hardware",
   "metadata": {},
   "outputs": [
    {
     "name": "stdout",
     "output_type": "stream",
     "text": [
      "0.8831304789993801\n"
     ]
    }
   ],
   "source": [
    "from sklearn.ensemble import AdaBoostRegressor\n",
    "ada = AdaBoostRegressor(random_state=0, n_estimators=150, learning_rate=0.001, loss=\"square\")\n",
    "ada.fit(train_feat, cost_train)\n",
    "print(ada.score(test_feat, cost_test))"
   ]
  },
  {
   "cell_type": "markdown",
   "id": "frank-drive",
   "metadata": {},
   "source": [
    "### RandomForest Regressor"
   ]
  },
  {
   "cell_type": "code",
   "execution_count": 40,
   "id": "champion-montgomery",
   "metadata": {},
   "outputs": [
    {
     "name": "stdout",
     "output_type": "stream",
     "text": [
      "0.9631836355326009\n"
     ]
    }
   ],
   "source": [
    "from sklearn.ensemble import RandomForestRegressor\n",
    "rfr = RandomForestRegressor(n_estimators=150,random_state=42)\n",
    "rfr.fit(train_feat, cost_train)\n",
    "print(rfr.score(test_feat, cost_test))"
   ]
  },
  {
   "cell_type": "markdown",
   "id": "acquired-danish",
   "metadata": {},
   "source": [
    "### LinearRegressor"
   ]
  },
  {
   "cell_type": "code",
   "execution_count": 41,
   "id": "superior-calcium",
   "metadata": {},
   "outputs": [
    {
     "name": "stdout",
     "output_type": "stream",
     "text": [
      "0.6926237060423044\n"
     ]
    }
   ],
   "source": [
    "from sklearn.linear_model import LinearRegression\n",
    "lnr = LinearRegression(normalize=True)\n",
    "lnr.fit(train_feat, cost_train)\n",
    "print(lnr.score(test_feat, cost_test))"
   ]
  },
  {
   "cell_type": "markdown",
   "id": "certified-syracuse",
   "metadata": {},
   "source": [
    "### Approach 2 Findings:\n",
    "Gradient boosting performed well"
   ]
  },
  {
   "cell_type": "markdown",
   "id": "confidential-candle",
   "metadata": {},
   "source": [
    "## Cross Validation and parameter tuning"
   ]
  },
  {
   "cell_type": "code",
   "execution_count": 42,
   "id": "offshore-remains",
   "metadata": {},
   "outputs": [],
   "source": [
    "from sklearn.model_selection import KFold\n",
    "from sklearn.model_selection import GridSearchCV\n",
    "\n",
    "kf = KFold(shuffle=True, random_state=42)#5 Splits\n",
    "\n",
    "x_array = X_normalized.to_numpy()\n",
    "y_array = y_cost.to_numpy()\n",
    "#kf.get_n_splits(x_array)\n",
    "\n",
    "for train_index, test_index in kf.split(x_array):\n",
    "    X_train, X_test = x_array[train_index], x_array[test_index]\n",
    "    y_train, y_test = y_array[train_index], y_array[test_index]"
   ]
  },
  {
   "cell_type": "code",
   "execution_count": 43,
   "id": "green-thermal",
   "metadata": {},
   "outputs": [
    {
     "name": "stdout",
     "output_type": "stream",
     "text": [
      "0.9782109505962051\n"
     ]
    }
   ],
   "source": [
    "#grd.fit(X_train, y_train)\n",
    "print(grd.score(X_test, y_test))"
   ]
  },
  {
   "cell_type": "code",
   "execution_count": 44,
   "id": "hired-schedule",
   "metadata": {},
   "outputs": [],
   "source": [
    "#Best estimator: GradientBoostingRegressor(learning_rate=0.2, n_estimators=250, random_state=30)\n",
    "#parameters = {\"random_state\":[0, 10, 20, 30, 40], \"learning_rate\":[0.1, 0.2, 0.3, 0.4], \"subsample\":[1.0, 0.9, 0.8, 0.7], \"n_estimators\":[100, 150, 200, 250]}\n",
    "#grd = GradientBoostingRegressor()\n",
    "#reg = GridSearchCV(grd, parameters, n_jobs=4)\n",
    "#reg.fit(X_train, y_train)\n",
    "\n",
    "#print(f\"Score: {reg.score(X_test, y_test)}\")\n",
    "#print(f\"Best estimator: {reg.best_estimator_}\")"
   ]
  },
  {
   "cell_type": "code",
   "execution_count": 45,
   "id": "atmospheric-brass",
   "metadata": {},
   "outputs": [],
   "source": [
    "def inverseLog(cost):\n",
    "    return np.expm1(cost)"
   ]
  },
  {
   "cell_type": "code",
   "execution_count": 46,
   "id": "false-smart",
   "metadata": {},
   "outputs": [
    {
     "name": "stdout",
     "output_type": "stream",
     "text": [
      "MAE: 0.07152636773387103\n"
     ]
    }
   ],
   "source": [
    "from sklearn.metrics import mean_squared_error\n",
    "\n",
    "model = GradientBoostingRegressor(learning_rate=0.2, n_estimators=250, random_state=30)\n",
    "model.fit(X_train, y_train)\n",
    "preds = model.predict(X_test)\n",
    "\n",
    "# Evaluate the model\n",
    "score = mean_squared_error(y_test, preds)\n",
    "print('MSE:', score)"
   ]
  },
  {
   "cell_type": "markdown",
   "id": "infectious-anchor",
   "metadata": {},
   "source": [
    "## Prepare submission"
   ]
  },
  {
   "cell_type": "code",
   "execution_count": 54,
   "id": "functioning-dallas",
   "metadata": {},
   "outputs": [
    {
     "data": {
      "text/html": [
       "<div>\n",
       "<style scoped>\n",
       "    .dataframe tbody tr th:only-of-type {\n",
       "        vertical-align: middle;\n",
       "    }\n",
       "\n",
       "    .dataframe tbody tr th {\n",
       "        vertical-align: top;\n",
       "    }\n",
       "\n",
       "    .dataframe thead th {\n",
       "        text-align: right;\n",
       "    }\n",
       "</style>\n",
       "<table border=\"1\" class=\"dataframe\">\n",
       "  <thead>\n",
       "    <tr style=\"text-align: right;\">\n",
       "      <th></th>\n",
       "      <th>Customer Id</th>\n",
       "      <th>Cost</th>\n",
       "    </tr>\n",
       "  </thead>\n",
       "  <tbody>\n",
       "    <tr>\n",
       "      <th>0</th>\n",
       "      <td>fffe3400310033003300</td>\n",
       "      <td>409.18</td>\n",
       "    </tr>\n",
       "    <tr>\n",
       "      <th>1</th>\n",
       "      <td>fffe3600350035003400</td>\n",
       "      <td>682.41</td>\n",
       "    </tr>\n",
       "    <tr>\n",
       "      <th>2</th>\n",
       "      <td>fffe3700360030003500</td>\n",
       "      <td>232.32</td>\n",
       "    </tr>\n",
       "    <tr>\n",
       "      <th>3</th>\n",
       "      <td>fffe350038003600</td>\n",
       "      <td>250.19</td>\n",
       "    </tr>\n",
       "    <tr>\n",
       "      <th>4</th>\n",
       "      <td>fffe3500390032003500</td>\n",
       "      <td>378.98</td>\n",
       "    </tr>\n",
       "  </tbody>\n",
       "</table>\n",
       "</div>"
      ],
      "text/plain": [
       "            Customer Id    Cost\n",
       "0  fffe3400310033003300  409.18\n",
       "1  fffe3600350035003400  682.41\n",
       "2  fffe3700360030003500  232.32\n",
       "3      fffe350038003600  250.19\n",
       "4  fffe3500390032003500  378.98"
      ]
     },
     "execution_count": 54,
     "metadata": {},
     "output_type": "execute_result"
    }
   ],
   "source": [
    "result = inverseLog(model.predict(final_features_norm)).round(2)\n",
    "submission = pd.DataFrame({\"Customer Id\":customer_id, \"Cost\":result})\n",
    "submission.head()"
   ]
  },
  {
   "cell_type": "code",
   "execution_count": 55,
   "id": "fluid-spank",
   "metadata": {},
   "outputs": [],
   "source": [
    "submission.to_csv('./submission_GB.csv', index=False)"
   ]
  },
  {
   "cell_type": "code",
   "execution_count": null,
   "id": "developed-representation",
   "metadata": {},
   "outputs": [],
   "source": []
  }
 ],
 "metadata": {
  "kernelspec": {
   "display_name": "Python 3",
   "language": "python",
   "name": "python3"
  },
  "language_info": {
   "codemirror_mode": {
    "name": "ipython",
    "version": 3
   },
   "file_extension": ".py",
   "mimetype": "text/x-python",
   "name": "python",
   "nbconvert_exporter": "python",
   "pygments_lexer": "ipython3",
   "version": "3.8.5"
  }
 },
 "nbformat": 4,
 "nbformat_minor": 5
}
