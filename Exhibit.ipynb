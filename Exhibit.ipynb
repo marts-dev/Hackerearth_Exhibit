{
 "cells": [
  {
   "cell_type": "markdown",
   "id": "detailed-strand",
   "metadata": {},
   "source": [
    "# Hackerearth Exhibit A(rt)"
   ]
  },
  {
   "cell_type": "markdown",
   "id": "moving-attention",
   "metadata": {},
   "source": [
    "Hackathon for predicting the cost of shipping an art piece."
   ]
  },
  {
   "cell_type": "code",
   "execution_count": 1,
   "id": "comprehensive-universe",
   "metadata": {},
   "outputs": [],
   "source": [
    "import numpy as np\n",
    "import pandas as pd\n",
    "import pandas_profiling\n",
    "\n",
    "#Training data file\n",
    "train_file = \"./dataset/train.csv\"\n",
    "test_file = \"./dataset/test.csv\""
   ]
  },
  {
   "cell_type": "markdown",
   "id": "requested-firmware",
   "metadata": {},
   "source": [
    "## Data Specification\n",
    "\n",
    "| Column name | Description |\n",
    "| --- | --- |\n",
    "| Customer Id | Represents the unique identification number of the customers |\n",
    "| Artist Name |Represents the name of the artist |\n",
    "| Artist Reputation\t| Represents the reputation of an artist in the market (the greater the reputation value, the higher the reputation of the artist in the market)\n",
    "| Height | Represents the height of the sculpture |\n",
    "| Width\t| Represents the width of the sculpture |\n",
    "| Weight | Represents the weight of the sculpture |\n",
    "| Material | Represents the material that the sculpture is made of |\n",
    "| Price Of Sculpture | Represents the price of the sculpture |\n",
    "| Base Shipping Price | Represents the base price for shipping a sculpture |\n",
    "| International | Represents whether the shipping is international |\n",
    "| Express Shipment | Represents whether the shipping was in the express (fast) mode |\n",
    "| Installation Included | Represents whether the order had installation included in the purchase of the sculpture |\n",
    "| Transport | Represents the mode of transport of the order |\n",
    "| Fragile | Represents whether the order is fragile |\n",
    "| Customer Information | Represents details about a customer |\n",
    "| Remote Location | Represents whether the customer resides in a remote location |\n",
    "| Scheduled Date | Represents the date when the order was placed |\n",
    "| Delivery Date | Represents the date of delivery of the order |\n",
    "| Customer Location | Represents the location of the customer |\n",
    "| Cost | Represents the cost of the order |"
   ]
  },
  {
   "cell_type": "markdown",
   "id": "iraqi-valentine",
   "metadata": {},
   "source": [
    "## Load the data in a pandas.Dataframe"
   ]
  },
  {
   "cell_type": "code",
   "execution_count": 2,
   "id": "fourth-engineer",
   "metadata": {},
   "outputs": [],
   "source": [
    "train_df = pd.read_csv(train_file)\n",
    "test_df = pd.read_csv(test_file)\n",
    "#train_df.profile_report()"
   ]
  },
  {
   "cell_type": "code",
   "execution_count": 3,
   "id": "documentary-bangkok",
   "metadata": {},
   "outputs": [
    {
     "data": {
      "text/html": [
       "<div>\n",
       "<style scoped>\n",
       "    .dataframe tbody tr th:only-of-type {\n",
       "        vertical-align: middle;\n",
       "    }\n",
       "\n",
       "    .dataframe tbody tr th {\n",
       "        vertical-align: top;\n",
       "    }\n",
       "\n",
       "    .dataframe thead th {\n",
       "        text-align: right;\n",
       "    }\n",
       "</style>\n",
       "<table border=\"1\" class=\"dataframe\">\n",
       "  <thead>\n",
       "    <tr style=\"text-align: right;\">\n",
       "      <th></th>\n",
       "      <th>Customer Id</th>\n",
       "      <th>Artist Name</th>\n",
       "      <th>Artist Reputation</th>\n",
       "      <th>Height</th>\n",
       "      <th>Width</th>\n",
       "      <th>Weight</th>\n",
       "      <th>Material</th>\n",
       "      <th>Price Of Sculpture</th>\n",
       "      <th>Base Shipping Price</th>\n",
       "      <th>International</th>\n",
       "      <th>Express Shipment</th>\n",
       "      <th>Installation Included</th>\n",
       "      <th>Transport</th>\n",
       "      <th>Fragile</th>\n",
       "      <th>Customer Information</th>\n",
       "      <th>Remote Location</th>\n",
       "      <th>Scheduled Date</th>\n",
       "      <th>Delivery Date</th>\n",
       "      <th>Customer Location</th>\n",
       "      <th>Cost</th>\n",
       "    </tr>\n",
       "  </thead>\n",
       "  <tbody>\n",
       "    <tr>\n",
       "      <th>0</th>\n",
       "      <td>fffe3900350033003300</td>\n",
       "      <td>Billy Jenkins</td>\n",
       "      <td>0.26</td>\n",
       "      <td>17.0</td>\n",
       "      <td>6.0</td>\n",
       "      <td>4128.0</td>\n",
       "      <td>Brass</td>\n",
       "      <td>13.91</td>\n",
       "      <td>16.27</td>\n",
       "      <td>Yes</td>\n",
       "      <td>Yes</td>\n",
       "      <td>No</td>\n",
       "      <td>Airways</td>\n",
       "      <td>No</td>\n",
       "      <td>Working Class</td>\n",
       "      <td>No</td>\n",
       "      <td>06/07/15</td>\n",
       "      <td>06/03/15</td>\n",
       "      <td>New Michelle, OH 50777</td>\n",
       "      <td>-283.29</td>\n",
       "    </tr>\n",
       "    <tr>\n",
       "      <th>1</th>\n",
       "      <td>fffe3800330031003900</td>\n",
       "      <td>Jean Bryant</td>\n",
       "      <td>0.28</td>\n",
       "      <td>3.0</td>\n",
       "      <td>3.0</td>\n",
       "      <td>61.0</td>\n",
       "      <td>Brass</td>\n",
       "      <td>6.83</td>\n",
       "      <td>15.00</td>\n",
       "      <td>No</td>\n",
       "      <td>No</td>\n",
       "      <td>No</td>\n",
       "      <td>Roadways</td>\n",
       "      <td>No</td>\n",
       "      <td>Working Class</td>\n",
       "      <td>No</td>\n",
       "      <td>03/06/17</td>\n",
       "      <td>03/05/17</td>\n",
       "      <td>New Michaelport, WY 12072</td>\n",
       "      <td>-159.96</td>\n",
       "    </tr>\n",
       "    <tr>\n",
       "      <th>2</th>\n",
       "      <td>fffe3600370035003100</td>\n",
       "      <td>Laura Miller</td>\n",
       "      <td>0.07</td>\n",
       "      <td>8.0</td>\n",
       "      <td>5.0</td>\n",
       "      <td>237.0</td>\n",
       "      <td>Clay</td>\n",
       "      <td>4.96</td>\n",
       "      <td>21.18</td>\n",
       "      <td>No</td>\n",
       "      <td>No</td>\n",
       "      <td>No</td>\n",
       "      <td>Roadways</td>\n",
       "      <td>Yes</td>\n",
       "      <td>Working Class</td>\n",
       "      <td>Yes</td>\n",
       "      <td>03/09/15</td>\n",
       "      <td>03/08/15</td>\n",
       "      <td>Bowmanshire, WA 19241</td>\n",
       "      <td>-154.29</td>\n",
       "    </tr>\n",
       "    <tr>\n",
       "      <th>3</th>\n",
       "      <td>fffe350031003300</td>\n",
       "      <td>Robert Chaires</td>\n",
       "      <td>0.12</td>\n",
       "      <td>9.0</td>\n",
       "      <td>NaN</td>\n",
       "      <td>NaN</td>\n",
       "      <td>Aluminium</td>\n",
       "      <td>5.81</td>\n",
       "      <td>16.31</td>\n",
       "      <td>No</td>\n",
       "      <td>No</td>\n",
       "      <td>No</td>\n",
       "      <td>NaN</td>\n",
       "      <td>No</td>\n",
       "      <td>Wealthy</td>\n",
       "      <td>Yes</td>\n",
       "      <td>05/24/15</td>\n",
       "      <td>05/20/15</td>\n",
       "      <td>East Robyn, KY 86375</td>\n",
       "      <td>-161.16</td>\n",
       "    </tr>\n",
       "    <tr>\n",
       "      <th>4</th>\n",
       "      <td>fffe3900320038003400</td>\n",
       "      <td>Rosalyn Krol</td>\n",
       "      <td>0.15</td>\n",
       "      <td>17.0</td>\n",
       "      <td>6.0</td>\n",
       "      <td>324.0</td>\n",
       "      <td>Aluminium</td>\n",
       "      <td>3.18</td>\n",
       "      <td>11.94</td>\n",
       "      <td>Yes</td>\n",
       "      <td>Yes</td>\n",
       "      <td>Yes</td>\n",
       "      <td>Airways</td>\n",
       "      <td>No</td>\n",
       "      <td>Working Class</td>\n",
       "      <td>No</td>\n",
       "      <td>12/18/16</td>\n",
       "      <td>12/14/16</td>\n",
       "      <td>Aprilside, PA 52793</td>\n",
       "      <td>-159.23</td>\n",
       "    </tr>\n",
       "  </tbody>\n",
       "</table>\n",
       "</div>"
      ],
      "text/plain": [
       "            Customer Id     Artist Name  Artist Reputation  Height  Width  \\\n",
       "0  fffe3900350033003300   Billy Jenkins               0.26    17.0    6.0   \n",
       "1  fffe3800330031003900     Jean Bryant               0.28     3.0    3.0   \n",
       "2  fffe3600370035003100    Laura Miller               0.07     8.0    5.0   \n",
       "3      fffe350031003300  Robert Chaires               0.12     9.0    NaN   \n",
       "4  fffe3900320038003400    Rosalyn Krol               0.15    17.0    6.0   \n",
       "\n",
       "   Weight   Material  Price Of Sculpture  Base Shipping Price International  \\\n",
       "0  4128.0      Brass               13.91                16.27           Yes   \n",
       "1    61.0      Brass                6.83                15.00            No   \n",
       "2   237.0       Clay                4.96                21.18            No   \n",
       "3     NaN  Aluminium                5.81                16.31            No   \n",
       "4   324.0  Aluminium                3.18                11.94           Yes   \n",
       "\n",
       "  Express Shipment Installation Included Transport Fragile  \\\n",
       "0              Yes                    No   Airways      No   \n",
       "1               No                    No  Roadways      No   \n",
       "2               No                    No  Roadways     Yes   \n",
       "3               No                    No       NaN      No   \n",
       "4              Yes                   Yes   Airways      No   \n",
       "\n",
       "  Customer Information Remote Location Scheduled Date Delivery Date  \\\n",
       "0        Working Class              No       06/07/15      06/03/15   \n",
       "1        Working Class              No       03/06/17      03/05/17   \n",
       "2        Working Class             Yes       03/09/15      03/08/15   \n",
       "3              Wealthy             Yes       05/24/15      05/20/15   \n",
       "4        Working Class              No       12/18/16      12/14/16   \n",
       "\n",
       "           Customer Location    Cost  \n",
       "0     New Michelle, OH 50777 -283.29  \n",
       "1  New Michaelport, WY 12072 -159.96  \n",
       "2      Bowmanshire, WA 19241 -154.29  \n",
       "3       East Robyn, KY 86375 -161.16  \n",
       "4        Aprilside, PA 52793 -159.23  "
      ]
     },
     "execution_count": 3,
     "metadata": {},
     "output_type": "execute_result"
    }
   ],
   "source": [
    "train_df.head()"
   ]
  },
  {
   "cell_type": "code",
   "execution_count": 4,
   "id": "recent-forth",
   "metadata": {},
   "outputs": [
    {
     "data": {
      "text/plain": [
       "Customer Id                 0\n",
       "Artist Name                 0\n",
       "Artist Reputation         750\n",
       "Height                    375\n",
       "Width                     584\n",
       "Weight                    587\n",
       "Material                  764\n",
       "Price Of Sculpture          0\n",
       "Base Shipping Price         0\n",
       "International               0\n",
       "Express Shipment            0\n",
       "Installation Included       0\n",
       "Transport                1392\n",
       "Fragile                     0\n",
       "Customer Information        0\n",
       "Remote Location           771\n",
       "Scheduled Date              0\n",
       "Delivery Date               0\n",
       "Customer Location           0\n",
       "dtype: int64"
      ]
     },
     "execution_count": 4,
     "metadata": {},
     "output_type": "execute_result"
    }
   ],
   "source": [
    "#Separate the target in dataframe\n",
    "y_train = train_df[\"Cost\"].abs()\n",
    "x_train = train_df.drop([\"Cost\"], axis=1)\n",
    "x_test = test_df\n",
    "missing_values_count = x_train.isnull().sum()\n",
    "missing_values_count"
   ]
  },
  {
   "cell_type": "markdown",
   "id": "settled-transaction",
   "metadata": {},
   "source": [
    "## Inspect the data\n",
    "### Observations:\n",
    "- CustomerIds are 100% unique, might be representing transaction ID(candidate for removal)\n",
    "- Customer Locations are 100% unique(candidate for removal since distance cannot be dervided from currently provided data)\n",
    "- Cost is highly skewed(Target to be predicted)\n",
    "- Price of sculpture is highly skewed\n",
    "- Height, Width, Weight and Material might have correlation(Try to use PCA and another regressor to impute missing values)\n",
    "- Transportation has a lot of missing information\n",
    "### Columns with missing data\n",
    "- Artist Reputation\n",
    "- Height\n",
    "- Width\n",
    "- Weight\n",
    "- Material\n",
    "- Transport\n",
    "- Remote Location"
   ]
  },
  {
   "cell_type": "markdown",
   "id": "compliant-spare",
   "metadata": {},
   "source": [
    "## Approach 1: Straight forward, just use features that affected shipping cost based on experience\n",
    "Remove probably not useful columns\n",
    "CustomerIds, Customer Location, Material, Artist Name, Artist Reputation, Scheduled Date, Delivery Date\n",
    "### Note\n",
    "Consider adding again, Artist reputation in later attempt"
   ]
  },
  {
   "cell_type": "code",
   "execution_count": 5,
   "id": "victorian-halloween",
   "metadata": {},
   "outputs": [],
   "source": [
    "drop_columns = [\"Customer Id\", \"Customer Location\", \"Material\", \"Artist Name\", \"Artist Reputation\", \"Scheduled Date\", \"Delivery Date\"]\n",
    "X_train_dropped = x_train.drop(drop_columns, axis=1)\n",
    "X_test_dropped = x_test.drop(drop_columns, axis=1)\n",
    "label = X_train_dropped.dtypes == \"object\"\n",
    "label_enc_cols = list(label[label].index)"
   ]
  },
  {
   "cell_type": "markdown",
   "id": "arranged-finnish",
   "metadata": {},
   "source": [
    "### Fill missing values of Transport"
   ]
  },
  {
   "cell_type": "code",
   "execution_count": 6,
   "id": "boxed-alignment",
   "metadata": {},
   "outputs": [],
   "source": [
    "replacement = X_train_dropped[\"Transport\"].mode()[0]\n",
    "X_train_dropped[\"Transport\"] = X_train_dropped[\"Transport\"].fillna(replacement)\n",
    "replacement = X_train_dropped[\"Remote Location\"].mode()[0]\n",
    "X_train_dropped[\"Remote Location\"] = X_train_dropped[\"Remote Location\"].fillna(replacement)\n",
    "replacement = X_test_dropped[\"Transport\"].mode()[0]\n",
    "X_test_dropped[\"Transport\"] = X_test_dropped[\"Transport\"].fillna(replacement)\n",
    "replacement = X_test_dropped[\"Remote Location\"].mode()[0]\n",
    "X_test_dropped[\"Remote Location\"] = X_test_dropped[\"Remote Location\"].fillna(replacement)"
   ]
  },
  {
   "cell_type": "markdown",
   "id": "burning-basin",
   "metadata": {},
   "source": [
    "### Label Encode"
   ]
  },
  {
   "cell_type": "code",
   "execution_count": 7,
   "id": "contemporary-tonight",
   "metadata": {},
   "outputs": [],
   "source": [
    "from sklearn.preprocessing import LabelEncoder\n",
    "label_encoder = LabelEncoder()\n",
    "for col in label_enc_cols:\n",
    "    X_train_dropped[col] = label_encoder.fit_transform(X_train_dropped[col])\n",
    "    X_test_dropped[col] = label_encoder.fit_transform(X_test_dropped[col])"
   ]
  },
  {
   "cell_type": "code",
   "execution_count": 8,
   "id": "residential-albany",
   "metadata": {},
   "outputs": [
    {
     "data": {
      "text/html": [
       "<div>\n",
       "<style scoped>\n",
       "    .dataframe tbody tr th:only-of-type {\n",
       "        vertical-align: middle;\n",
       "    }\n",
       "\n",
       "    .dataframe tbody tr th {\n",
       "        vertical-align: top;\n",
       "    }\n",
       "\n",
       "    .dataframe thead th {\n",
       "        text-align: right;\n",
       "    }\n",
       "</style>\n",
       "<table border=\"1\" class=\"dataframe\">\n",
       "  <thead>\n",
       "    <tr style=\"text-align: right;\">\n",
       "      <th></th>\n",
       "      <th>Height</th>\n",
       "      <th>Width</th>\n",
       "      <th>Weight</th>\n",
       "      <th>Price Of Sculpture</th>\n",
       "      <th>Base Shipping Price</th>\n",
       "      <th>International</th>\n",
       "      <th>Express Shipment</th>\n",
       "      <th>Installation Included</th>\n",
       "      <th>Transport</th>\n",
       "      <th>Fragile</th>\n",
       "      <th>Customer Information</th>\n",
       "      <th>Remote Location</th>\n",
       "    </tr>\n",
       "  </thead>\n",
       "  <tbody>\n",
       "    <tr>\n",
       "      <th>0</th>\n",
       "      <td>17.0</td>\n",
       "      <td>6.0</td>\n",
       "      <td>4128.0</td>\n",
       "      <td>13.91</td>\n",
       "      <td>16.27</td>\n",
       "      <td>1</td>\n",
       "      <td>1</td>\n",
       "      <td>0</td>\n",
       "      <td>0</td>\n",
       "      <td>0</td>\n",
       "      <td>1</td>\n",
       "      <td>0</td>\n",
       "    </tr>\n",
       "    <tr>\n",
       "      <th>1</th>\n",
       "      <td>3.0</td>\n",
       "      <td>3.0</td>\n",
       "      <td>61.0</td>\n",
       "      <td>6.83</td>\n",
       "      <td>15.00</td>\n",
       "      <td>0</td>\n",
       "      <td>0</td>\n",
       "      <td>0</td>\n",
       "      <td>1</td>\n",
       "      <td>0</td>\n",
       "      <td>1</td>\n",
       "      <td>0</td>\n",
       "    </tr>\n",
       "    <tr>\n",
       "      <th>2</th>\n",
       "      <td>8.0</td>\n",
       "      <td>5.0</td>\n",
       "      <td>237.0</td>\n",
       "      <td>4.96</td>\n",
       "      <td>21.18</td>\n",
       "      <td>0</td>\n",
       "      <td>0</td>\n",
       "      <td>0</td>\n",
       "      <td>1</td>\n",
       "      <td>1</td>\n",
       "      <td>1</td>\n",
       "      <td>1</td>\n",
       "    </tr>\n",
       "    <tr>\n",
       "      <th>3</th>\n",
       "      <td>9.0</td>\n",
       "      <td>NaN</td>\n",
       "      <td>NaN</td>\n",
       "      <td>5.81</td>\n",
       "      <td>16.31</td>\n",
       "      <td>0</td>\n",
       "      <td>0</td>\n",
       "      <td>0</td>\n",
       "      <td>1</td>\n",
       "      <td>0</td>\n",
       "      <td>0</td>\n",
       "      <td>1</td>\n",
       "    </tr>\n",
       "    <tr>\n",
       "      <th>4</th>\n",
       "      <td>17.0</td>\n",
       "      <td>6.0</td>\n",
       "      <td>324.0</td>\n",
       "      <td>3.18</td>\n",
       "      <td>11.94</td>\n",
       "      <td>1</td>\n",
       "      <td>1</td>\n",
       "      <td>1</td>\n",
       "      <td>0</td>\n",
       "      <td>0</td>\n",
       "      <td>1</td>\n",
       "      <td>0</td>\n",
       "    </tr>\n",
       "  </tbody>\n",
       "</table>\n",
       "</div>"
      ],
      "text/plain": [
       "   Height  Width  Weight  Price Of Sculpture  Base Shipping Price  \\\n",
       "0    17.0    6.0  4128.0               13.91                16.27   \n",
       "1     3.0    3.0    61.0                6.83                15.00   \n",
       "2     8.0    5.0   237.0                4.96                21.18   \n",
       "3     9.0    NaN     NaN                5.81                16.31   \n",
       "4    17.0    6.0   324.0                3.18                11.94   \n",
       "\n",
       "   International  Express Shipment  Installation Included  Transport  Fragile  \\\n",
       "0              1                 1                      0          0        0   \n",
       "1              0                 0                      0          1        0   \n",
       "2              0                 0                      0          1        1   \n",
       "3              0                 0                      0          1        0   \n",
       "4              1                 1                      1          0        0   \n",
       "\n",
       "   Customer Information  Remote Location  \n",
       "0                     1                0  \n",
       "1                     1                0  \n",
       "2                     1                1  \n",
       "3                     0                1  \n",
       "4                     1                0  "
      ]
     },
     "execution_count": 8,
     "metadata": {},
     "output_type": "execute_result"
    }
   ],
   "source": [
    "X_train_dropped.head()"
   ]
  },
  {
   "cell_type": "markdown",
   "id": "living-bankruptcy",
   "metadata": {},
   "source": [
    "## Impute missing values"
   ]
  },
  {
   "cell_type": "code",
   "execution_count": 9,
   "id": "competitive-letters",
   "metadata": {},
   "outputs": [],
   "source": [
    "from sklearn.impute import SimpleImputer\n",
    "imputer = SimpleImputer(strategy=\"most_frequent\")\n",
    "X_imputed = pd.DataFrame(imputer.fit_transform(X_train_dropped), columns=X_train_dropped.columns)"
   ]
  },
  {
   "cell_type": "markdown",
   "id": "indie-castle",
   "metadata": {},
   "source": [
    "## Scale the data"
   ]
  },
  {
   "cell_type": "code",
   "execution_count": 10,
   "id": "loaded-routine",
   "metadata": {},
   "outputs": [],
   "source": [
    "from sklearn.preprocessing import MinMaxScaler\n",
    "feat_to_scale = [\"Height\", \"Width\", \"Weight\",\"Price Of Sculpture\", \"Base Shipping Price\"]\n",
    "X_scaled = X_imputed\n",
    "scaled_features = MinMaxScaler().fit_transform(X_scaled[feat_to_scale])\n",
    "#Remove unscaled columns from original DF\n",
    "scaled_feature_df = pd.DataFrame(scaled_features, columns=feat_to_scale)\n",
    "scaled_feature_df.head()\n",
    "for col in feat_to_scale:\n",
    "    X_scaled[col] = scaled_feature_df[col]\n",
    "    \n",
    "X_scaled.head()\n",
    "y_train = np.log1p(y_train)"
   ]
  },
  {
   "cell_type": "code",
   "execution_count": 11,
   "id": "incorrect-longitude",
   "metadata": {},
   "outputs": [],
   "source": [
    "from sklearn.model_selection import train_test_split\n",
    "# Split the currently available training set for evaluation\n",
    "train_feat, test_feat, cost_train, cost_test = train_test_split(\n",
    "    X_scaled.to_numpy(),\n",
    "    y_train.to_numpy(),\n",
    "    train_size=0.8,\n",
    "    random_state=0\n",
    "    )\n"
   ]
  },
  {
   "cell_type": "markdown",
   "id": "assured-regard",
   "metadata": {},
   "source": [
    "## Try AdaBoost Regressor"
   ]
  },
  {
   "cell_type": "code",
   "execution_count": 12,
   "id": "professional-driving",
   "metadata": {},
   "outputs": [],
   "source": [
    "from sklearn.ensemble import AdaBoostRegressor\n",
    "ada = AdaBoostRegressor(random_state=0, n_estimators=150, learning_rate=0.0001, loss=\"exponential\")"
   ]
  },
  {
   "cell_type": "code",
   "execution_count": 13,
   "id": "comparable-cedar",
   "metadata": {},
   "outputs": [
    {
     "name": "stdout",
     "output_type": "stream",
     "text": [
      "0.8606118766716299\n"
     ]
    }
   ],
   "source": [
    "ada.fit(train_feat, cost_train)\n",
    "print(ada.score(test_feat, cost_test))"
   ]
  },
  {
   "cell_type": "markdown",
   "id": "gentle-white",
   "metadata": {},
   "source": [
    "## RandomForest Regressor"
   ]
  },
  {
   "cell_type": "code",
   "execution_count": 14,
   "id": "union-ethics",
   "metadata": {},
   "outputs": [],
   "source": [
    "from sklearn.ensemble import RandomForestRegressor\n",
    "rfr = RandomForestRegressor(n_estimators=150,random_state=42)"
   ]
  },
  {
   "cell_type": "code",
   "execution_count": 15,
   "id": "chief-action",
   "metadata": {},
   "outputs": [
    {
     "name": "stdout",
     "output_type": "stream",
     "text": [
      "0.8892530789905283\n"
     ]
    }
   ],
   "source": [
    "rfr.fit(train_feat, cost_train)\n",
    "print(rfr.score(test_feat, cost_test))"
   ]
  },
  {
   "cell_type": "markdown",
   "id": "afraid-essence",
   "metadata": {},
   "source": [
    "## Linear Regressor"
   ]
  },
  {
   "cell_type": "code",
   "execution_count": 16,
   "id": "supported-wellington",
   "metadata": {},
   "outputs": [],
   "source": [
    "from sklearn.linear_model import LinearRegression\n",
    "lnr = LinearRegression(normalize=True)"
   ]
  },
  {
   "cell_type": "code",
   "execution_count": 17,
   "id": "criminal-james",
   "metadata": {},
   "outputs": [
    {
     "name": "stdout",
     "output_type": "stream",
     "text": [
      "0.5699499216959859\n"
     ]
    }
   ],
   "source": [
    "lnr.fit(train_feat, cost_train)\n",
    "print(lnr.score(test_feat, cost_test))"
   ]
  },
  {
   "cell_type": "markdown",
   "id": "hybrid-extent",
   "metadata": {},
   "source": [
    "## Ridge Regression"
   ]
  },
  {
   "cell_type": "code",
   "execution_count": 18,
   "id": "civil-borough",
   "metadata": {},
   "outputs": [
    {
     "name": "stdout",
     "output_type": "stream",
     "text": [
      "0.5665261893013835\n"
     ]
    }
   ],
   "source": [
    "from sklearn.linear_model import Ridge\n",
    "rdg = Ridge(alpha=0.1, normalize=True)\n",
    "rdg.fit(train_feat, cost_train)\n",
    "print(rdg.score(test_feat, cost_test))"
   ]
  },
  {
   "cell_type": "markdown",
   "id": "victorian-lawrence",
   "metadata": {},
   "source": [
    "## Kernel Ridge"
   ]
  },
  {
   "cell_type": "code",
   "execution_count": 19,
   "id": "least-shirt",
   "metadata": {},
   "outputs": [
    {
     "name": "stdout",
     "output_type": "stream",
     "text": [
      "-0.6112040000880068\n"
     ]
    }
   ],
   "source": [
    "from sklearn.kernel_ridge import KernelRidge\n",
    "krn = KernelRidge(alpha=1000, degree=12)\n",
    "krn.fit(train_feat, cost_train)\n",
    "print(krn.score(test_feat, cost_test))"
   ]
  },
  {
   "cell_type": "markdown",
   "id": "demonstrated-interval",
   "metadata": {},
   "source": [
    "## GradientBoosting"
   ]
  },
  {
   "cell_type": "code",
   "execution_count": 20,
   "id": "persistent-africa",
   "metadata": {},
   "outputs": [
    {
     "name": "stdout",
     "output_type": "stream",
     "text": [
      "0.8896623379793243\n"
     ]
    }
   ],
   "source": [
    "from sklearn.ensemble import GradientBoostingRegressor\n",
    "grd = GradientBoostingRegressor(random_state=0)\n",
    "grd.fit(train_feat, cost_train)\n",
    "print(grd.score(test_feat, cost_test))"
   ]
  },
  {
   "cell_type": "markdown",
   "id": "earned-nashville",
   "metadata": {},
   "source": [
    "## Approach 1 result\n",
    "- Gradient Boosting performed better than other models using the present data"
   ]
  },
  {
   "cell_type": "markdown",
   "id": "military-australia",
   "metadata": {},
   "source": [
    "## Approach 2: Generate additional features from present data"
   ]
  },
  {
   "cell_type": "code",
   "execution_count": 21,
   "id": "hairy-metadata",
   "metadata": {},
   "outputs": [
    {
     "data": {
      "text/html": [
       "<div>\n",
       "<style scoped>\n",
       "    .dataframe tbody tr th:only-of-type {\n",
       "        vertical-align: middle;\n",
       "    }\n",
       "\n",
       "    .dataframe tbody tr th {\n",
       "        vertical-align: top;\n",
       "    }\n",
       "\n",
       "    .dataframe thead th {\n",
       "        text-align: right;\n",
       "    }\n",
       "</style>\n",
       "<table border=\"1\" class=\"dataframe\">\n",
       "  <thead>\n",
       "    <tr style=\"text-align: right;\">\n",
       "      <th></th>\n",
       "      <th>Customer Id</th>\n",
       "      <th>Artist Name</th>\n",
       "      <th>Artist Reputation</th>\n",
       "      <th>Height</th>\n",
       "      <th>Width</th>\n",
       "      <th>Weight</th>\n",
       "      <th>Material</th>\n",
       "      <th>Price Of Sculpture</th>\n",
       "      <th>Base Shipping Price</th>\n",
       "      <th>International</th>\n",
       "      <th>Express Shipment</th>\n",
       "      <th>Installation Included</th>\n",
       "      <th>Transport</th>\n",
       "      <th>Fragile</th>\n",
       "      <th>Customer Information</th>\n",
       "      <th>Remote Location</th>\n",
       "      <th>Scheduled Date</th>\n",
       "      <th>Delivery Date</th>\n",
       "      <th>Customer Location</th>\n",
       "      <th>Cost</th>\n",
       "    </tr>\n",
       "  </thead>\n",
       "  <tbody>\n",
       "    <tr>\n",
       "      <th>0</th>\n",
       "      <td>fffe3900350033003300</td>\n",
       "      <td>Billy Jenkins</td>\n",
       "      <td>0.26</td>\n",
       "      <td>17.0</td>\n",
       "      <td>6.0</td>\n",
       "      <td>4128.0</td>\n",
       "      <td>Brass</td>\n",
       "      <td>13.91</td>\n",
       "      <td>16.27</td>\n",
       "      <td>Yes</td>\n",
       "      <td>Yes</td>\n",
       "      <td>No</td>\n",
       "      <td>Airways</td>\n",
       "      <td>No</td>\n",
       "      <td>Working Class</td>\n",
       "      <td>No</td>\n",
       "      <td>2015-06-07</td>\n",
       "      <td>2015-06-03</td>\n",
       "      <td>New Michelle, OH 50777</td>\n",
       "      <td>-283.29</td>\n",
       "    </tr>\n",
       "    <tr>\n",
       "      <th>1</th>\n",
       "      <td>fffe3800330031003900</td>\n",
       "      <td>Jean Bryant</td>\n",
       "      <td>0.28</td>\n",
       "      <td>3.0</td>\n",
       "      <td>3.0</td>\n",
       "      <td>61.0</td>\n",
       "      <td>Brass</td>\n",
       "      <td>6.83</td>\n",
       "      <td>15.00</td>\n",
       "      <td>No</td>\n",
       "      <td>No</td>\n",
       "      <td>No</td>\n",
       "      <td>Roadways</td>\n",
       "      <td>No</td>\n",
       "      <td>Working Class</td>\n",
       "      <td>No</td>\n",
       "      <td>2017-03-06</td>\n",
       "      <td>2017-03-05</td>\n",
       "      <td>New Michaelport, WY 12072</td>\n",
       "      <td>-159.96</td>\n",
       "    </tr>\n",
       "    <tr>\n",
       "      <th>2</th>\n",
       "      <td>fffe3600370035003100</td>\n",
       "      <td>Laura Miller</td>\n",
       "      <td>0.07</td>\n",
       "      <td>8.0</td>\n",
       "      <td>5.0</td>\n",
       "      <td>237.0</td>\n",
       "      <td>Clay</td>\n",
       "      <td>4.96</td>\n",
       "      <td>21.18</td>\n",
       "      <td>No</td>\n",
       "      <td>No</td>\n",
       "      <td>No</td>\n",
       "      <td>Roadways</td>\n",
       "      <td>Yes</td>\n",
       "      <td>Working Class</td>\n",
       "      <td>Yes</td>\n",
       "      <td>2015-03-09</td>\n",
       "      <td>2015-03-08</td>\n",
       "      <td>Bowmanshire, WA 19241</td>\n",
       "      <td>-154.29</td>\n",
       "    </tr>\n",
       "    <tr>\n",
       "      <th>3</th>\n",
       "      <td>fffe350031003300</td>\n",
       "      <td>Robert Chaires</td>\n",
       "      <td>0.12</td>\n",
       "      <td>9.0</td>\n",
       "      <td>NaN</td>\n",
       "      <td>NaN</td>\n",
       "      <td>Aluminium</td>\n",
       "      <td>5.81</td>\n",
       "      <td>16.31</td>\n",
       "      <td>No</td>\n",
       "      <td>No</td>\n",
       "      <td>No</td>\n",
       "      <td>NaN</td>\n",
       "      <td>No</td>\n",
       "      <td>Wealthy</td>\n",
       "      <td>Yes</td>\n",
       "      <td>2015-05-24</td>\n",
       "      <td>2015-05-20</td>\n",
       "      <td>East Robyn, KY 86375</td>\n",
       "      <td>-161.16</td>\n",
       "    </tr>\n",
       "    <tr>\n",
       "      <th>4</th>\n",
       "      <td>fffe3900320038003400</td>\n",
       "      <td>Rosalyn Krol</td>\n",
       "      <td>0.15</td>\n",
       "      <td>17.0</td>\n",
       "      <td>6.0</td>\n",
       "      <td>324.0</td>\n",
       "      <td>Aluminium</td>\n",
       "      <td>3.18</td>\n",
       "      <td>11.94</td>\n",
       "      <td>Yes</td>\n",
       "      <td>Yes</td>\n",
       "      <td>Yes</td>\n",
       "      <td>Airways</td>\n",
       "      <td>No</td>\n",
       "      <td>Working Class</td>\n",
       "      <td>No</td>\n",
       "      <td>2016-12-18</td>\n",
       "      <td>2016-12-14</td>\n",
       "      <td>Aprilside, PA 52793</td>\n",
       "      <td>-159.23</td>\n",
       "    </tr>\n",
       "  </tbody>\n",
       "</table>\n",
       "</div>"
      ],
      "text/plain": [
       "            Customer Id     Artist Name  Artist Reputation  Height  Width  \\\n",
       "0  fffe3900350033003300   Billy Jenkins               0.26    17.0    6.0   \n",
       "1  fffe3800330031003900     Jean Bryant               0.28     3.0    3.0   \n",
       "2  fffe3600370035003100    Laura Miller               0.07     8.0    5.0   \n",
       "3      fffe350031003300  Robert Chaires               0.12     9.0    NaN   \n",
       "4  fffe3900320038003400    Rosalyn Krol               0.15    17.0    6.0   \n",
       "\n",
       "   Weight   Material  Price Of Sculpture  Base Shipping Price International  \\\n",
       "0  4128.0      Brass               13.91                16.27           Yes   \n",
       "1    61.0      Brass                6.83                15.00            No   \n",
       "2   237.0       Clay                4.96                21.18            No   \n",
       "3     NaN  Aluminium                5.81                16.31            No   \n",
       "4   324.0  Aluminium                3.18                11.94           Yes   \n",
       "\n",
       "  Express Shipment Installation Included Transport Fragile  \\\n",
       "0              Yes                    No   Airways      No   \n",
       "1               No                    No  Roadways      No   \n",
       "2               No                    No  Roadways     Yes   \n",
       "3               No                    No       NaN      No   \n",
       "4              Yes                   Yes   Airways      No   \n",
       "\n",
       "  Customer Information Remote Location Scheduled Date Delivery Date  \\\n",
       "0        Working Class              No     2015-06-07    2015-06-03   \n",
       "1        Working Class              No     2017-03-06    2017-03-05   \n",
       "2        Working Class             Yes     2015-03-09    2015-03-08   \n",
       "3              Wealthy             Yes     2015-05-24    2015-05-20   \n",
       "4        Working Class              No     2016-12-18    2016-12-14   \n",
       "\n",
       "           Customer Location    Cost  \n",
       "0     New Michelle, OH 50777 -283.29  \n",
       "1  New Michaelport, WY 12072 -159.96  \n",
       "2      Bowmanshire, WA 19241 -154.29  \n",
       "3       East Robyn, KY 86375 -161.16  \n",
       "4        Aprilside, PA 52793 -159.23  "
      ]
     },
     "execution_count": 21,
     "metadata": {},
     "output_type": "execute_result"
    }
   ],
   "source": [
    "# Original Data\n",
    "x_modified = train_df\n",
    "x_modified[\"Scheduled Date\"] = pd.to_datetime(x_modified[\"Scheduled Date\"], format=\"%m/%d/%y\")\n",
    "x_modified[\"Delivery Date\"] = pd.to_datetime(x_modified[\"Delivery Date\"], format=\"%m/%d/%y\")\n",
    "x_modified.head()"
   ]
  },
  {
   "cell_type": "markdown",
   "id": "foreign-declaration",
   "metadata": {},
   "source": [
    "### Create new feature from difference of scheduled date and delivery date"
   ]
  },
  {
   "cell_type": "code",
   "execution_count": 22,
   "id": "identical-investment",
   "metadata": {},
   "outputs": [],
   "source": [
    "x_modified[\"ScheduleDiff\"] = (x_modified[\"Delivery Date\"]-x_modified[\"Scheduled Date\"]).map(lambda x: str(x).split()[0])\n",
    "x_modified[\"ScheduleDiff\"] = pd.to_numeric(x_modified[\"ScheduleDiff\"])"
   ]
  },
  {
   "cell_type": "markdown",
   "id": "worth-shower",
   "metadata": {},
   "source": [
    "## Extract state from customer location"
   ]
  },
  {
   "cell_type": "code",
   "execution_count": 23,
   "id": "pacific-initial",
   "metadata": {},
   "outputs": [],
   "source": [
    "x_modified[\"State\"] = x_modified[\"Customer Location\"].map(lambda x:str(x).split()[-2])"
   ]
  },
  {
   "cell_type": "code",
   "execution_count": 24,
   "id": "classical-dutch",
   "metadata": {},
   "outputs": [],
   "source": [
    "#x_modified.profile_report()"
   ]
  },
  {
   "cell_type": "code",
   "execution_count": 25,
   "id": "independent-contract",
   "metadata": {},
   "outputs": [],
   "source": [
    "y_log = y_train"
   ]
  }
 ],
 "metadata": {
  "kernelspec": {
   "display_name": "Python 3",
   "language": "python",
   "name": "python3"
  },
  "language_info": {
   "codemirror_mode": {
    "name": "ipython",
    "version": 3
   },
   "file_extension": ".py",
   "mimetype": "text/x-python",
   "name": "python",
   "nbconvert_exporter": "python",
   "pygments_lexer": "ipython3",
   "version": "3.8.5"
  }
 },
 "nbformat": 4,
 "nbformat_minor": 5
}
